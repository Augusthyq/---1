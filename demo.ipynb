{
 "cells": [
  {
   "cell_type": "code",
   "execution_count": null,
   "id": "fb62af4d",
   "metadata": {},
   "outputs": [],
   "source": [
    "# %load demo-2.py\n",
    "from Stitcher import Stitcher\n",
    "import cv2\n",
    "\n",
    "# 读取图片\n",
    "img1 = cv2.imread('5.jpg')\n",
    "img2 = cv2.imread('6.jpg')\n",
    "\n",
    "img1 = cv2.resize(img1, dsize=(1000, 750), interpolation=cv2.INTER_AREA)\n",
    "img2 = cv2.resize(img2, dsize=(1000, 750), interpolation=cv2.INTER_AREA)\n",
    "\n",
    "\n",
    "# 图片拼接\n",
    "stitcher = Stitcher()\n",
    "result, vis = stitcher.stitch([img1, img2], showMatches=True)\n"
   ]
  },
  {
   "cell_type": "code",
   "execution_count": null,
   "id": "e75b536e",
   "metadata": {},
   "outputs": [],
   "source": []
  }
 ],
 "metadata": {
  "kernelspec": {
   "display_name": "Python 3 (ipykernel)",
   "language": "python",
   "name": "python3"
  },
  "language_info": {
   "codemirror_mode": {
    "name": "ipython",
    "version": 3
   },
   "file_extension": ".py",
   "mimetype": "text/x-python",
   "name": "python",
   "nbconvert_exporter": "python",
   "pygments_lexer": "ipython3",
   "version": "3.7.16"
  }
 },
 "nbformat": 4,
 "nbformat_minor": 5
}
